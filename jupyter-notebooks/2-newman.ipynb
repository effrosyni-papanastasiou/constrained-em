{
 "cells": [
  {
   "cell_type": "code",
   "execution_count": null,
   "metadata": {},
   "outputs": [],
   "source": [
    "import numpy as np\n",
    "from collections import defaultdict\n",
    "import random\n",
    "import copy\n",
    "import pickle"
   ]
  },
  {
   "cell_type": "markdown",
   "metadata": {},
   "source": [
    "# 1. Load input"
   ]
  },
  {
   "cell_type": "code",
   "execution_count": null,
   "metadata": {},
   "outputs": [],
   "source": [
    "lines = 500000"
   ]
  },
  {
   "cell_type": "code",
   "execution_count": null,
   "metadata": {},
   "outputs": [],
   "source": [
    "Eij = pickle.load(open(\"./extracted/E_newman\"+ str(lines) + \".p\", \"rb\"))"
   ]
  },
  {
   "cell_type": "code",
   "execution_count": null,
   "metadata": {},
   "outputs": [],
   "source": [
    "U = pickle.load(open(\"./extracted/U\"+ str(lines) + \".p\", \"rb\"))\n",
    "U = list(U)"
   ]
  },
  {
   "cell_type": "code",
   "execution_count": null,
   "metadata": {},
   "outputs": [],
   "source": [
    "Eij_max = max([Eij[i][j] for i in Eij for j in Eij[i]])\n",
    "print('Max number of retweets:', Eij_max)"
   ]
  },
  {
   "cell_type": "markdown",
   "metadata": {},
   "source": [
    "# B. Apply Newman's algorithm\n",
    "\n",
    "Network shape:\n",
    "\n",
    "- We have **N** number of nodes/users \n",
    "- We count how many times a user retweed another user (directly available from Eij).\n",
    "- From this information, we want to infer the friendship structure of the users\n",
    "- The number of possible pairs (directed edges) is **N*(N-1)**"
   ]
  },
  {
   "cell_type": "code",
   "execution_count": null,
   "metadata": {},
   "outputs": [],
   "source": [
    "n = len(U)\n",
    "N = Eij_max\n",
    "pairs = n*(n-1)\n",
    "\n",
    "print('Number of nodes:', n)\n",
    "print('Number of measurements for each pair:', N)\n",
    "print('Number of possible pairs:', pairs)\n",
    "\n",
    "active_pairs = sum(len(Eij[i]) for i in Eij)\n",
    "dead_pairs = pairs - active_pairs\n",
    "\n",
    "print('Number of active pairs:', active_pairs)\n",
    "print('Number of pairs without interactions:', dead_pairs)"
   ]
  },
  {
   "cell_type": "code",
   "execution_count": null,
   "metadata": {},
   "outputs": [],
   "source": [
    "eps = 10**(-3) # convergence criterion \n",
    "repetitions = 100 # number of times we repeat the algorithm"
   ]
  },
  {
   "cell_type": "code",
   "execution_count": null,
   "metadata": {},
   "outputs": [],
   "source": [
    "def flatten(obj):\n",
    "    if type(obj) == list:\n",
    "        return [l for L in obj for l in L]\n",
    "    if type(obj) == dict:\n",
    "        return [l for i in obj for l in obj[i].values()]\n",
    "    if type(obj) == defaultdict:\n",
    "        return [l for i in obj for l in obj[i].values()]"
   ]
  },
  {
   "cell_type": "markdown",
   "metadata": {},
   "source": [
    "Initialize Newman's parameteres α,β,ρ randomly\n",
    "\n",
    "- α in [0.5,1], the true positive rate\n",
    "- β in [0, 0.5], the false positive rate \n",
    "- ρ in [0, 1], the prior probability of any edge existing on the network\n"
   ]
  },
  {
   "cell_type": "code",
   "execution_count": null,
   "metadata": {
    "scrolled": true
   },
   "outputs": [],
   "source": [
    "def newman(Eij, dead_pairs, pairs, repetitions, eps):\n",
    "        \"\"\" \n",
    "        This function is the main algorithm for path inference with constraints according to Newman[1].\n",
    "\n",
    "        [1] M. E. J. Newman, ``Network structure from rich but noisy data'', Nature Physics, \n",
    "        vol. 14, 2018, pp. 67-75.\n",
    "        \"\"\"\n",
    "    while True:\n",
    "        it = 0\n",
    "        Qij = defaultdict(dict)\n",
    "        while it<200:\n",
    "            if it==0:\n",
    "                # same init values as in constrained-em\n",
    "                a = 0.9999\n",
    "                b = 0.0001 \n",
    "                r = 0.003\n",
    "            else:\n",
    "                a = (sum([Eij[i][j] * Qij[i][j] for i in Eij for j in Eij[i]]))/(N * (sum([Qij[i][j] for i in Qij for j in Qij[i]]) + dead_pairs * Q_dead))\n",
    "                b = (sum([Eij[i][j] * (1-Qij[i][j]) for i in Eij for j in Eij[i]]))/(N * (sum([(1-Qij[i][j]) for i in Qij for j in Qij[i]]) + dead_pairs * (1-Q_dead)))\n",
    "                r = (sum([Qij[i][j] for i in Qij for j in Qij[i]]) + dead_pairs * Q_dead) / (pairs)\n",
    "            for i in Eij:\n",
    "                for j in Eij[i]:\n",
    "                    e = Eij[i][j]\n",
    "                    Qij[i][j] = (r * (a**e) * ((1-a) ** (N-e)))/((r * (a ** e) * (1-a) ** (N-e)) + (1-r) * (b ** e) * ((1-b) ** (N-e)))\n",
    "\n",
    "            Q_dead = (r * ((1-a) ** N)) / ((r * (1-a)**N) + (1-r) * ((1-b) ** N))\n",
    "            if it!=0:\n",
    "                old_q = np.array(flatten(Qij_old))\n",
    "                new_q = np.array(flatten(Qij))\n",
    "                change = np.linalg.norm(new_q - old_q)\n",
    "                if change < eps: break\n",
    "            Qij_old = copy.deepcopy(Qij)\n",
    "            it = it +1\n",
    "        return a, b , r, Qij"
   ]
  },
  {
   "cell_type": "code",
   "execution_count": null,
   "metadata": {},
   "outputs": [],
   "source": [
    "random.seed(10)\n",
    "a, b, r, Qij = newman(Eij, dead_pairs, pairs, 1, eps)"
   ]
  },
  {
   "cell_type": "code",
   "execution_count": null,
   "metadata": {},
   "outputs": [],
   "source": [
    "try: \n",
    "    pickle.dump(Qij, open(\"./extracted/Q_newman_\"+ str(lines) + \".p\", \"wb\"))\n",
    "except: \n",
    "    print(\"Unable to write to file\")"
   ]
  }
 ],
 "metadata": {
  "environment": {
   "name": "common-cu110.m65",
   "type": "gcloud",
   "uri": "gcr.io/deeplearning-platform-release/base-cu110:m65"
  },
  "kernelspec": {
   "display_name": "Python 3",
   "language": "python",
   "name": "python3"
  },
  "language_info": {
   "codemirror_mode": {
    "name": "ipython",
    "version": 3
   },
   "file_extension": ".py",
   "mimetype": "text/x-python",
   "name": "python",
   "nbconvert_exporter": "python",
   "pygments_lexer": "ipython3",
   "version": "3.6.9"
  }
 },
 "nbformat": 4,
 "nbformat_minor": 4
}
